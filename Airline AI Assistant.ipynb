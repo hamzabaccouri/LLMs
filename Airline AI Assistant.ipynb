{
 "cells": [
  {
   "cell_type": "code",
   "execution_count": 1,
   "id": "68fec2bf",
   "metadata": {},
   "outputs": [],
   "source": [
    "# imports\n",
    "\n",
    "import os\n",
    "import json\n",
    "from dotenv import load_dotenv\n",
    "from openai import OpenAI\n",
    "import gradio as gr"
   ]
  },
  {
   "cell_type": "code",
   "execution_count": 2,
   "id": "88d33976",
   "metadata": {},
   "outputs": [
    {
     "name": "stdout",
     "output_type": "stream",
     "text": [
      "OpenAI API Key exists and begins sk-proj-\n"
     ]
    }
   ],
   "source": [
    "# Initialization\n",
    "\n",
    "load_dotenv()\n",
    "\n",
    "openai_api_key = os.getenv('OPENAI_API_KEY')\n",
    "if openai_api_key:\n",
    "    print(f\"OpenAI API Key exists and begins {openai_api_key[:8]}\")\n",
    "else:\n",
    "    print(\"OpenAI API Key not set\")\n",
    "    \n",
    "MODEL = \"gpt-4o-mini\"\n",
    "openai = OpenAI()"
   ]
  },
  {
   "cell_type": "code",
   "execution_count": 3,
   "id": "69250fab",
   "metadata": {},
   "outputs": [],
   "source": [
    "system_message = \"You are a helpful assistant for an Airline called FlightAI. \"\n",
    "system_message += \"Give short, courteous answers, no more than 1 sentence. \"\n",
    "system_message += \"Always be accurate. If you don't know the answer, say so.\""
   ]
  },
  {
   "cell_type": "code",
   "execution_count": 4,
   "id": "d47bb505",
   "metadata": {},
   "outputs": [
    {
     "name": "stdout",
     "output_type": "stream",
     "text": [
      "* Running on local URL:  http://127.0.0.1:7860\n",
      "\n",
      "To create a public link, set `share=True` in `launch()`.\n"
     ]
    },
    {
     "data": {
      "text/html": [
       "<div><iframe src=\"http://127.0.0.1:7860/\" width=\"100%\" height=\"500\" allow=\"autoplay; camera; microphone; clipboard-read; clipboard-write;\" frameborder=\"0\" allowfullscreen></iframe></div>"
      ],
      "text/plain": [
       "<IPython.core.display.HTML object>"
      ]
     },
     "metadata": {},
     "output_type": "display_data"
    },
    {
     "data": {
      "text/plain": []
     },
     "execution_count": 4,
     "metadata": {},
     "output_type": "execute_result"
    }
   ],
   "source": [
    "# This function looks rather simpler than the one from my video, because we're taking advantage of the latest Gradio updates\n",
    "\n",
    "def chat(message, history):\n",
    "    messages = [{\"role\": \"system\", \"content\": system_message}] + history + [{\"role\": \"user\", \"content\": message}]\n",
    "    response = openai.chat.completions.create(model=MODEL, messages=messages)\n",
    "    return response.choices[0].message.content\n",
    "\n",
    "gr.ChatInterface(fn=chat, type=\"messages\").launch()"
   ]
  },
  {
   "cell_type": "markdown",
   "id": "012fa1ab",
   "metadata": {},
   "source": [
    "Tools\n",
    "\n",
    "Tools are an incredibly powerful feature provided by the frontier LLMs.\n",
    "\n",
    "With tools, you can write a function, and have the LLM call that function as part of its response."
   ]
  },
  {
   "cell_type": "code",
   "execution_count": 5,
   "id": "9b75371e",
   "metadata": {},
   "outputs": [],
   "source": [
    "# Ticket prices dictionary\n",
    "ticket_prices = {\"london\": \"$799\", \"paris\": \"$899\", \"tokyo\": \"$1400\", \"berlin\": \"$499\", \"tunis\": \"$120\", \"barcelone\": \"$70\"}"
   ]
  },
  {
   "cell_type": "code",
   "execution_count": 6,
   "id": "948ba249",
   "metadata": {},
   "outputs": [],
   "source": [
    "# Flight status dictionary\n",
    "flight_statuses = {\n",
    "    \"london\": \"On Time\",\n",
    "    \"paris\": \"Delayed by 30 minutes\", \n",
    "    \"tokyo\": \"Boarding\", \n",
    "    \"berlin\": \"Arrived\", \n",
    "    \"tunis\": \"Cancelled\", \n",
    "    \"barcelone\": \"On Time\"\n",
    "}"
   ]
  },
  {
   "cell_type": "code",
   "execution_count": 7,
   "id": "0cf7187c",
   "metadata": {},
   "outputs": [],
   "source": [
    "# Available flight routes\n",
    "available_routes = {\n",
    "    \"europe\": [\"london\", \"paris\", \"berlin\", \"barcelone\"],\n",
    "    \"asia\": [\"tokyo\"],\n",
    "    \"africa\": [\"tunis\"],\n",
    "    \"direct_routes\": {\n",
    "        \"london\": [\"paris\", \"berlin\", \"barcelone\"],\n",
    "        \"paris\": [\"london\", \"berlin\"],\n",
    "        \"tokyo\": [],  # No direct routes from Tokyo in this example\n",
    "        \"berlin\": [\"london\", \"paris\"],\n",
    "        \"tunis\": [],\n",
    "        \"barcelone\": [\"london\"]\n",
    "    }\n",
    "}"
   ]
  },
  {
   "cell_type": "code",
   "execution_count": 8,
   "id": "7b0b644c",
   "metadata": {},
   "outputs": [],
   "source": [
    "# Ticket Price Tool Function\n",
    "def get_ticket_price(destination_city):\n",
    "    print(f\"Tool get_ticket_price called for {destination_city}\")\n",
    "    city = destination_city.lower()\n",
    "    return ticket_prices.get(city, \"Unknown\")"
   ]
  },
  {
   "cell_type": "code",
   "execution_count": 9,
   "id": "46417362",
   "metadata": {},
   "outputs": [
    {
     "name": "stdout",
     "output_type": "stream",
     "text": [
      "Tool get_ticket_price called for Berlin\n"
     ]
    },
    {
     "data": {
      "text/plain": [
       "'$499'"
      ]
     },
     "execution_count": 9,
     "metadata": {},
     "output_type": "execute_result"
    }
   ],
   "source": [
    "get_ticket_price(\"Berlin\")"
   ]
  },
  {
   "cell_type": "code",
   "execution_count": 10,
   "id": "330da319",
   "metadata": {},
   "outputs": [],
   "source": [
    "# Flight Status Tool Function\n",
    "def get_flight_status(destination_city):\n",
    "    print(f\"tool get_flight_status called for {destination_city}\")\n",
    "    city =  destination_city.lower()\n",
    "    return flight_statuses.get(city, \"Status not available\")"
   ]
  },
  {
   "cell_type": "code",
   "execution_count": 11,
   "id": "f45bd4f1",
   "metadata": {},
   "outputs": [],
   "source": [
    "# Available Routes Tool Function\n",
    "def get_available_routes(region_or_city=None):\n",
    "    print(\"fTool get_available_routes called for {region_or_city}\")\n",
    "    \n",
    "    #If no specific region/city is provided, return all regions \n",
    "    if not region_or_city:\n",
    "        return json.dumps({\n",
    "            \"regions\": list(available_routes.keys() - {\"direct_routes\"}),\n",
    "            \"all_destinations\": list(ticket_prices.keys())\n",
    "        })\n",
    "    \n",
    "    region_or_city = region_or_city.lower()\n",
    "    \n",
    "    #check if it's a region \n",
    "    if region_or_city in available_routes and region_or_city != \"direct_routes\":\n",
    "        return json.dumps(available_routes[region_or_city])\n",
    "    \n",
    "    #check of it's a city with direct routes \n",
    "    if region_or_city in available_routes[\"direct_routes\"]:\n",
    "        return json.dumps({\n",
    "            \"city\": region_or_city,\n",
    "            \"direct_routes\": available_routes[\"direct_routes\"][region_or_city]\n",
    "        })\n",
    "    \n",
    "    return \"No routes found for the specified region or city\"\n",
    "        "
   ]
  },
  {
   "cell_type": "code",
   "execution_count": 12,
   "id": "b5ae95b1",
   "metadata": {},
   "outputs": [],
   "source": [
    "# Ticket Price Function Definition for OpenAI\n",
    "price_function = {\n",
    "    \"name\": \"get_ticket_price\",\n",
    "    \"description\": \"Get the price of a return ticket to the destination city. Call this whenever you need to know the ticket price, for example when a customer asks 'How much is a ticket to this city'\",\n",
    "    \"parameters\": {\n",
    "        \"type\": \"object\",\n",
    "        \"properties\": {\n",
    "            \"destination_city\": {\n",
    "                \"type\": \"string\",\n",
    "                \"description\": \"The city that the customer wants to travel to\",\n",
    "            },\n",
    "        },\n",
    "        \"required\": [\"destination_city\"],\n",
    "        \"additionalProperties\": False\n",
    "    }\n",
    "}"
   ]
  },
  {
   "cell_type": "code",
   "execution_count": 13,
   "id": "0be15682",
   "metadata": {},
   "outputs": [],
   "source": [
    "# Flight Status Function Definition for OpenAI\n",
    "status_function = {\n",
    "    \"name\": \"get_flight_status\",\n",
    "    \"description\": \"Get the current status of a flight to the destination city.\",\n",
    "    \"parameters\": {\n",
    "        \"type\": \"object\",\n",
    "        \"properties\": {\n",
    "            \"destination_city\":{\n",
    "                \"type\": \"string\",\n",
    "                \"description\": \"The city of the flight whose status is being queried.\", \n",
    "            },\n",
    "        },\n",
    "        \"required\": [\"destination_city\"],\n",
    "        \"additionalProperties\": False\n",
    "    }\n",
    "    \n",
    "}"
   ]
  },
  {
   "cell_type": "code",
   "execution_count": 14,
   "id": "378c97e2",
   "metadata": {},
   "outputs": [],
   "source": [
    "# Available Routes Function Definition for OpenAI\n",
    "routes_function = {\n",
    "    \"name\": \"get_available_routes\",\n",
    "    \"description\": \"Get information about available flight routes. Can provide routes by region or direct routes for a specific city.\",\n",
    "    \"parameters\": {\n",
    "        \"type\": \"object\",\n",
    "        \"properties\": {\n",
    "            \"region_or_city\": {\n",
    "                \"type\": \"string\",\n",
    "                \"description\": \"Optional. Can be a region (like 'Europe') or a specific city. If not provided, returns all regions and destinations.\",\n",
    "            },\n",
    "        },\n",
    "        \"required\": [],\n",
    "        \"additionalProperties\": False\n",
    "    }\n",
    "} "
   ]
  },
  {
   "cell_type": "code",
   "execution_count": 15,
   "id": "0e2a7159",
   "metadata": {},
   "outputs": [],
   "source": [
    "# Updated tools list with all three functions\n",
    "\n",
    "tools = [\n",
    "    {\"type\": \"function\", \"function\": price_function},\n",
    "    {\"type\": \"function\", \"function\": status_function},\n",
    "    {\"type\": \"function\", \"function\": routes_function}\n",
    "        ]"
   ]
  },
  {
   "cell_type": "markdown",
   "id": "0dd34ca8",
   "metadata": {},
   "source": [
    "Getting OpenAI to use our Tool"
   ]
  },
  {
   "cell_type": "code",
   "execution_count": 16,
   "id": "8ae79c74",
   "metadata": {},
   "outputs": [],
   "source": [
    "def chat(message, history):\n",
    "    # Prepare messages with system message and chat history\n",
    "    messages = [{\"role\": \"system\", \"content\": system_message}]\n",
    "    messages.extend(history)\n",
    "    messages.append({\"role\": \"user\", \"content\": message})\n",
    "\n",
    "    # First API call to potentially trigger tool calls\n",
    "    response = openai.chat.completions.create(\n",
    "        model=MODEL, \n",
    "        messages=messages, \n",
    "        tools=tools,\n",
    "        tool_choice=\"auto\"  # Let the model decide when to use tools\n",
    "    )\n",
    "\n",
    "    # Check if tool calls are needed\n",
    "    if response.choices[0].finish_reason == \"tool_calls\":\n",
    "        # Get the message with tool calls\n",
    "        message_with_tool_calls = response.choices[0].message\n",
    "        \n",
    "        # Prepare to collect tool responses\n",
    "        messages.append(message_with_tool_calls)\n",
    "        \n",
    "        # Process each tool call\n",
    "        for tool_call in message_with_tool_calls.tool_calls:\n",
    "            arguments = json.loads(tool_call.function.arguments)\n",
    "            \n",
    "            # Determine which tool was called and get the result\n",
    "            if tool_call.function.name == \"get_ticket_price\":\n",
    "                city = arguments.get('destination_city')\n",
    "                result = get_ticket_price(city)\n",
    "                tool_response = {\n",
    "                    \"role\": \"tool\",\n",
    "                    \"tool_call_id\": tool_call.id,\n",
    "                    \"content\": f\"The ticket price to {city} is {result}\"\n",
    "                }\n",
    "            elif tool_call.function.name == \"get_flight_status\":\n",
    "                city = arguments.get('destination_city')\n",
    "                result = get_flight_status(city)\n",
    "                tool_response = {\n",
    "                    \"role\": \"tool\",\n",
    "                    \"tool_call_id\": tool_call.id,\n",
    "                    \"content\": f\"The flight status to {city} is {result}\"\n",
    "                }\n",
    "            elif tool_call.function.name == \"get_available_routes\":\n",
    "                region_or_city = arguments.get('region_or_city')\n",
    "                result = get_available_routes(region_or_city)\n",
    "                tool_response = {\n",
    "                    \"role\": \"tool\",\n",
    "                    \"tool_call_id\": tool_call.id,\n",
    "                    \"content\": f\"Available routes: {result}\"\n",
    "                }\n",
    "            \n",
    "            # Add tool response to messages\n",
    "            messages.append(tool_response)\n",
    "        \n",
    "        # Make final API call to get the response\n",
    "        response = openai.chat.completions.create(\n",
    "            model=MODEL, \n",
    "            messages=messages\n",
    "        )\n",
    "    \n",
    "    # Return the final response content\n",
    "    return response.choices[0].message.content"
   ]
  },
  {
   "cell_type": "code",
   "execution_count": 17,
   "id": "9ce85c0a",
   "metadata": {},
   "outputs": [
    {
     "name": "stdout",
     "output_type": "stream",
     "text": [
      "* Running on local URL:  http://127.0.0.1:7861\n",
      "\n",
      "To create a public link, set `share=True` in `launch()`.\n"
     ]
    },
    {
     "data": {
      "text/html": [
       "<div><iframe src=\"http://127.0.0.1:7861/\" width=\"100%\" height=\"500\" allow=\"autoplay; camera; microphone; clipboard-read; clipboard-write;\" frameborder=\"0\" allowfullscreen></iframe></div>"
      ],
      "text/plain": [
       "<IPython.core.display.HTML object>"
      ]
     },
     "metadata": {},
     "output_type": "display_data"
    },
    {
     "data": {
      "text/plain": []
     },
     "execution_count": 17,
     "metadata": {},
     "output_type": "execute_result"
    },
    {
     "name": "stdout",
     "output_type": "stream",
     "text": [
      "fTool get_available_routes called for {region_or_city}\n",
      "Tool get_ticket_price called for Tunisia\n",
      "fTool get_available_routes called for {region_or_city}\n",
      "Tool get_ticket_price called for Tunis\n",
      "tool get_flight_status called for Tunis\n"
     ]
    }
   ],
   "source": [
    "# Launch Gradio interface\n",
    "gr.ChatInterface(fn=chat, type=\"messages\").launch()"
   ]
  },
  {
   "cell_type": "code",
   "execution_count": null,
   "id": "27564014",
   "metadata": {},
   "outputs": [],
   "source": []
  },
  {
   "cell_type": "code",
   "execution_count": null,
   "id": "6c422d50",
   "metadata": {},
   "outputs": [],
   "source": []
  },
  {
   "cell_type": "code",
   "execution_count": null,
   "id": "87b777f8",
   "metadata": {},
   "outputs": [],
   "source": []
  }
 ],
 "metadata": {
  "kernelspec": {
   "display_name": "llms",
   "language": "python",
   "name": "llms"
  },
  "language_info": {
   "codemirror_mode": {
    "name": "ipython",
    "version": 3
   },
   "file_extension": ".py",
   "mimetype": "text/x-python",
   "name": "python",
   "nbconvert_exporter": "python",
   "pygments_lexer": "ipython3",
   "version": "3.11.10"
  }
 },
 "nbformat": 4,
 "nbformat_minor": 5
}
